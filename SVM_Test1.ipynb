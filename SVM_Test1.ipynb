{
 "cells": [
  {
   "cell_type": "code",
   "execution_count": 17,
   "id": "6992dbaa",
   "metadata": {},
   "outputs": [],
   "source": [
    "import numpy as nm  \n",
    "import matplotlib.pyplot as mtp  \n",
    "import pandas as pd  \n",
    "from sklearn.feature_extraction.text import TfidfVectorizer\n",
    "from sklearn.feature_extraction.text import CountVectorizer\n",
    "from pathlib import Path  \n",
    "import glob\n",
    "from sklearn.model_selection import train_test_split  "
   ]
  },
  {
   "cell_type": "code",
   "execution_count": 38,
   "id": "9fe1a877",
   "metadata": {},
   "outputs": [],
   "source": [
    "netflix_data = pd.read_csv('test_data.csv',encoding='latin-1', index_col = False)"
   ]
  },
  {
   "cell_type": "code",
   "execution_count": 39,
   "id": "4494cab2",
   "metadata": {},
   "outputs": [
    {
     "data": {
      "text/html": [
       "<div>\n",
       "<style scoped>\n",
       "    .dataframe tbody tr th:only-of-type {\n",
       "        vertical-align: middle;\n",
       "    }\n",
       "\n",
       "    .dataframe tbody tr th {\n",
       "        vertical-align: top;\n",
       "    }\n",
       "\n",
       "    .dataframe thead th {\n",
       "        text-align: right;\n",
       "    }\n",
       "</style>\n",
       "<table border=\"1\" class=\"dataframe\">\n",
       "  <thead>\n",
       "    <tr style=\"text-align: right;\">\n",
       "      <th></th>\n",
       "      <th>Title</th>\n",
       "      <th>Genre</th>\n",
       "      <th>Tags</th>\n",
       "      <th>Languages</th>\n",
       "      <th>Director</th>\n",
       "      <th>Writer</th>\n",
       "      <th>Actors</th>\n",
       "      <th>View Rating</th>\n",
       "      <th>IMDb Score</th>\n",
       "      <th>Awards Received</th>\n",
       "      <th>Awards Nominated For</th>\n",
       "      <th>Boxoffice</th>\n",
       "      <th>Netflix Link</th>\n",
       "      <th>Summary</th>\n",
       "      <th>IMDb Votes</th>\n",
       "      <th>Image</th>\n",
       "    </tr>\n",
       "  </thead>\n",
       "  <tbody>\n",
       "    <tr>\n",
       "      <th>0</th>\n",
       "      <td>Lets Fight Ghost</td>\n",
       "      <td>Crime, Drama, Fantasy, Horror, Romance</td>\n",
       "      <td>Comedy Programmes,Romantic TV Comedies,Horror ...</td>\n",
       "      <td>Swedish, Spanish</td>\n",
       "      <td>Tomas Alfredson</td>\n",
       "      <td>John Ajvide Lindqvist</td>\n",
       "      <td>Lina Leandersson, Kåre Hedebrant, Per Ragnar, ...</td>\n",
       "      <td>R</td>\n",
       "      <td>7.9</td>\n",
       "      <td>74.0</td>\n",
       "      <td>57.0</td>\n",
       "      <td>$21,22,065</td>\n",
       "      <td>https://www.netflix.com/watch/81415947</td>\n",
       "      <td>A med student with a supernatural gift tries t...</td>\n",
       "      <td>205926.0</td>\n",
       "      <td>https://occ-0-4708-64.1.nflxso.net/dnm/api/v6/...</td>\n",
       "    </tr>\n",
       "    <tr>\n",
       "      <th>1</th>\n",
       "      <td>HOW TO BUILD A GIRL</td>\n",
       "      <td>Comedy</td>\n",
       "      <td>Dramas,Comedies,Films Based on Books,British</td>\n",
       "      <td>English</td>\n",
       "      <td>Coky Giedroyc</td>\n",
       "      <td>Caitlin Moran</td>\n",
       "      <td>Cleo, Paddy Considine, Beanie Feldstein, Dónal...</td>\n",
       "      <td>R</td>\n",
       "      <td>5.8</td>\n",
       "      <td>1.0</td>\n",
       "      <td>NaN</td>\n",
       "      <td>$70,632</td>\n",
       "      <td>https://www.netflix.com/watch/81041267</td>\n",
       "      <td>When nerdy Johanna moves to London, things get...</td>\n",
       "      <td>2838.0</td>\n",
       "      <td>https://occ-0-1081-999.1.nflxso.net/dnm/api/v6...</td>\n",
       "    </tr>\n",
       "  </tbody>\n",
       "</table>\n",
       "</div>"
      ],
      "text/plain": [
       "                 Title                                   Genre  \\\n",
       "0     Lets Fight Ghost  Crime, Drama, Fantasy, Horror, Romance   \n",
       "1  HOW TO BUILD A GIRL                                  Comedy   \n",
       "\n",
       "                                                Tags         Languages  \\\n",
       "0  Comedy Programmes,Romantic TV Comedies,Horror ...  Swedish, Spanish   \n",
       "1       Dramas,Comedies,Films Based on Books,British           English   \n",
       "\n",
       "          Director                 Writer  \\\n",
       "0  Tomas Alfredson  John Ajvide Lindqvist   \n",
       "1    Coky Giedroyc          Caitlin Moran   \n",
       "\n",
       "                                              Actors View Rating  IMDb Score  \\\n",
       "0  Lina Leandersson, Kåre Hedebrant, Per Ragnar, ...           R         7.9   \n",
       "1  Cleo, Paddy Considine, Beanie Feldstein, Dónal...           R         5.8   \n",
       "\n",
       "   Awards Received  Awards Nominated For   Boxoffice  \\\n",
       "0             74.0                  57.0  $21,22,065   \n",
       "1              1.0                   NaN     $70,632   \n",
       "\n",
       "                             Netflix Link  \\\n",
       "0  https://www.netflix.com/watch/81415947   \n",
       "1  https://www.netflix.com/watch/81041267   \n",
       "\n",
       "                                             Summary  IMDb Votes  \\\n",
       "0  A med student with a supernatural gift tries t...    205926.0   \n",
       "1  When nerdy Johanna moves to London, things get...      2838.0   \n",
       "\n",
       "                                               Image  \n",
       "0  https://occ-0-4708-64.1.nflxso.net/dnm/api/v6/...  \n",
       "1  https://occ-0-1081-999.1.nflxso.net/dnm/api/v6...  "
      ]
     },
     "execution_count": 39,
     "metadata": {},
     "output_type": "execute_result"
    }
   ],
   "source": [
    "import re\n",
    "netflix_data.head(2)"
   ]
  },
  {
   "cell_type": "code",
   "execution_count": 40,
   "id": "2d8ca499",
   "metadata": {},
   "outputs": [],
   "source": [
    "def clean_text(text):\n",
    "    if type(text)==str:\n",
    "        # Convert to lowercase\n",
    "        text = text.lower()\n",
    "    \n",
    "        # Remove special characters, numbers, and punctuation\n",
    "        text = re.sub(r'[^a-zA-Z0-9\\s]', '', text)\n",
    "    \n",
    "    return text\n",
    "text_columns = netflix_data.columns[netflix_data.dtypes == 'object']\n",
    "for col in text_columns:\n",
    "    netflix_data[col] = netflix_data[col].apply(clean_text)\n",
    "netflix_data.to_csv(\"cleaned_data.csv\", index=False)"
   ]
  },
  {
   "cell_type": "code",
   "execution_count": 41,
   "id": "ed6d56fb",
   "metadata": {},
   "outputs": [
    {
     "data": {
      "text/html": [
       "<div>\n",
       "<style scoped>\n",
       "    .dataframe tbody tr th:only-of-type {\n",
       "        vertical-align: middle;\n",
       "    }\n",
       "\n",
       "    .dataframe tbody tr th {\n",
       "        vertical-align: top;\n",
       "    }\n",
       "\n",
       "    .dataframe thead th {\n",
       "        text-align: right;\n",
       "    }\n",
       "</style>\n",
       "<table border=\"1\" class=\"dataframe\">\n",
       "  <thead>\n",
       "    <tr style=\"text-align: right;\">\n",
       "      <th></th>\n",
       "      <th>Title</th>\n",
       "      <th>Genre</th>\n",
       "      <th>Tags</th>\n",
       "      <th>Languages</th>\n",
       "      <th>Director</th>\n",
       "      <th>Writer</th>\n",
       "      <th>Actors</th>\n",
       "      <th>View Rating</th>\n",
       "      <th>IMDb Score</th>\n",
       "      <th>Awards Received</th>\n",
       "      <th>Awards Nominated For</th>\n",
       "      <th>Boxoffice</th>\n",
       "      <th>Netflix Link</th>\n",
       "      <th>Summary</th>\n",
       "      <th>IMDb Votes</th>\n",
       "      <th>Image</th>\n",
       "    </tr>\n",
       "  </thead>\n",
       "  <tbody>\n",
       "    <tr>\n",
       "      <th>0</th>\n",
       "      <td>lets fight ghost</td>\n",
       "      <td>crime drama fantasy horror romance</td>\n",
       "      <td>comedy programmesromantic tv comedieshorror pr...</td>\n",
       "      <td>swedish spanish</td>\n",
       "      <td>tomas alfredson</td>\n",
       "      <td>john ajvide lindqvist</td>\n",
       "      <td>lina leandersson kre hedebrant per ragnar henr...</td>\n",
       "      <td>r</td>\n",
       "      <td>7.9</td>\n",
       "      <td>74.0</td>\n",
       "      <td>57.0</td>\n",
       "      <td>2122065</td>\n",
       "      <td>httpswwwnetflixcomwatch81415947</td>\n",
       "      <td>a med student with a supernatural gift tries t...</td>\n",
       "      <td>205926.0</td>\n",
       "      <td>httpsocc04708641nflxsonetdnmapiv6evlcitjppcvcr...</td>\n",
       "    </tr>\n",
       "    <tr>\n",
       "      <th>1</th>\n",
       "      <td>how to build a girl</td>\n",
       "      <td>comedy</td>\n",
       "      <td>dramascomediesfilms based on booksbritish</td>\n",
       "      <td>english</td>\n",
       "      <td>coky giedroyc</td>\n",
       "      <td>caitlin moran</td>\n",
       "      <td>cleo paddy considine beanie feldstein dnal finn</td>\n",
       "      <td>r</td>\n",
       "      <td>5.8</td>\n",
       "      <td>1.0</td>\n",
       "      <td>NaN</td>\n",
       "      <td>70632</td>\n",
       "      <td>httpswwwnetflixcomwatch81041267</td>\n",
       "      <td>when nerdy johanna moves to london things get ...</td>\n",
       "      <td>2838.0</td>\n",
       "      <td>httpsocc010819991nflxsonetdnmapiv6evlcitjppcvc...</td>\n",
       "    </tr>\n",
       "  </tbody>\n",
       "</table>\n",
       "</div>"
      ],
      "text/plain": [
       "                 Title                               Genre  \\\n",
       "0     lets fight ghost  crime drama fantasy horror romance   \n",
       "1  how to build a girl                              comedy   \n",
       "\n",
       "                                                Tags        Languages  \\\n",
       "0  comedy programmesromantic tv comedieshorror pr...  swedish spanish   \n",
       "1          dramascomediesfilms based on booksbritish          english   \n",
       "\n",
       "          Director                 Writer  \\\n",
       "0  tomas alfredson  john ajvide lindqvist   \n",
       "1    coky giedroyc          caitlin moran   \n",
       "\n",
       "                                              Actors View Rating  IMDb Score  \\\n",
       "0  lina leandersson kre hedebrant per ragnar henr...           r         7.9   \n",
       "1    cleo paddy considine beanie feldstein dnal finn           r         5.8   \n",
       "\n",
       "   Awards Received  Awards Nominated For Boxoffice  \\\n",
       "0             74.0                  57.0   2122065   \n",
       "1              1.0                   NaN     70632   \n",
       "\n",
       "                      Netflix Link  \\\n",
       "0  httpswwwnetflixcomwatch81415947   \n",
       "1  httpswwwnetflixcomwatch81041267   \n",
       "\n",
       "                                             Summary  IMDb Votes  \\\n",
       "0  a med student with a supernatural gift tries t...    205926.0   \n",
       "1  when nerdy johanna moves to london things get ...      2838.0   \n",
       "\n",
       "                                               Image  \n",
       "0  httpsocc04708641nflxsonetdnmapiv6evlcitjppcvcr...  \n",
       "1  httpsocc010819991nflxsonetdnmapiv6evlcitjppcvc...  "
      ]
     },
     "execution_count": 41,
     "metadata": {},
     "output_type": "execute_result"
    }
   ],
   "source": [
    "netflix_data.head(2)"
   ]
  },
  {
   "cell_type": "code",
   "execution_count": 23,
   "id": "7f87d2f2",
   "metadata": {},
   "outputs": [],
   "source": []
  },
  {
   "cell_type": "code",
   "execution_count": 42,
   "id": "22dcd26f",
   "metadata": {},
   "outputs": [
    {
     "name": "stdout",
     "output_type": "stream",
     "text": [
      "Index(['Title,Genre,Tags,Languages,Director,Writer,Actors,View Rating,IMDb Score,Awards Received,Awards Nominated For,Boxoffice,Netflix Link,Summary,IMDb Votes,Image'], dtype='object')\n"
     ]
    },
    {
     "name": "stderr",
     "output_type": "stream",
     "text": [
      "C:\\Users\\thaku\\AppData\\Local\\Temp\\ipykernel_24324\\176225614.py:1: ParserWarning: Falling back to the 'python' engine because the 'c' engine does not support regex separators (separators > 1 char and different from '\\s+' are interpreted as regex); you can avoid this warning by specifying engine='python'.\n",
      "  df = pd.read_table(\"cleaned_data.csv\", delimiter =\", \", )\n"
     ]
    }
   ],
   "source": [
    "\n",
    "df = pd.read_table(\"cleaned_data.csv\", delimiter =\", \", )\n",
    "print(df.columns)"
   ]
  },
  {
   "cell_type": "code",
   "execution_count": 46,
   "id": "1f362125",
   "metadata": {},
   "outputs": [],
   "source": []
  },
  {
   "cell_type": "code",
   "execution_count": 43,
   "id": "4e71971b",
   "metadata": {},
   "outputs": [
    {
     "name": "stdout",
     "output_type": "stream",
     "text": [
      "                 Title                               Genre  \\\n",
      "0     lets fight ghost  crime drama fantasy horror romance   \n",
      "1  how to build a girl                              comedy   \n",
      "2      the conheartist                      comedy romance   \n",
      "\n",
      "                                                Tags        Languages  \\\n",
      "0  comedy programmesromantic tv comedieshorror pr...  swedish spanish   \n",
      "1          dramascomediesfilms based on booksbritish          english   \n",
      "2  romantic comediescomediesromantic filmsthai co...             thai   \n",
      "\n",
      "          Director                                             Writer  \\\n",
      "0  tomas alfredson                              john ajvide lindqvist   \n",
      "1    coky giedroyc                                      caitlin moran   \n",
      "2    mez tharatorn  pattaranad bhiboonsawade mez tharatorn thodsap...   \n",
      "\n",
      "                                              Actors View Rating  IMDb Score  \\\n",
      "0  lina leandersson kre hedebrant per ragnar henr...           r         7.9   \n",
      "1    cleo paddy considine beanie feldstein dnal finn           r         5.8   \n",
      "2  kathaleeya mcintosh nadech kugimiya pimchanok ...         NaN         7.4   \n",
      "\n",
      "   Awards Received  Awards Nominated For  Boxoffice  \\\n",
      "0             74.0                  57.0  2122065.0   \n",
      "1              1.0                   NaN    70632.0   \n",
      "2              NaN                   NaN        NaN   \n",
      "\n",
      "                      Netflix Link  \\\n",
      "0  httpswwwnetflixcomwatch81415947   \n",
      "1  httpswwwnetflixcomwatch81041267   \n",
      "2  httpswwwnetflixcomwatch81306155   \n",
      "\n",
      "                                             Summary  IMDb Votes  \\\n",
      "0  a med student with a supernatural gift tries t...    205926.0   \n",
      "1  when nerdy johanna moves to london things get ...      2838.0   \n",
      "2  after her exboyfriend cons her out of a large ...       131.0   \n",
      "\n",
      "                                               Image  \n",
      "0  httpsocc04708641nflxsonetdnmapiv6evlcitjppcvcr...  \n",
      "1  httpsocc010819991nflxsonetdnmapiv6evlcitjppcvc...  \n",
      "2  httpsocc02188641nflxsonetdnmapiv6evlcitjppcvcr...  \n",
      "Index(['Title,Genre,Tags,Languages,Director,Writer,Actors,View Rating,IMDb Score,Awards Received,Awards Nominated For,Boxoffice,Netflix Link,Summary,IMDb Votes,Image'], dtype='object')\n"
     ]
    },
    {
     "name": "stderr",
     "output_type": "stream",
     "text": [
      "C:\\Users\\thaku\\AppData\\Local\\Temp\\ipykernel_24324\\3146693288.py:3: ParserWarning: Falling back to the 'python' engine because the 'c' engine does not support regex separators (separators > 1 char and different from '\\s+' are interpreted as regex); you can avoid this warning by specifying engine='python'.\n",
      "  df = pd.read_table(\"cleaned_data.csv\", delimiter =\", \")\n"
     ]
    }
   ],
   "source": [
    "cleaned_data = pd.read_csv('cleaned_data.csv', )\n",
    "print(cleaned_data.head(3))\n",
    "df = pd.read_table(\"cleaned_data.csv\", delimiter =\", \")\n",
    "print(df.columns)"
   ]
  },
  {
   "cell_type": "code",
   "execution_count": 44,
   "id": "808c1872",
   "metadata": {},
   "outputs": [],
   "source": [
    "# df.rename(column='Genre,Tags,Languages,Director,Writer,Actors,View Rating,IMDb Score,Awards Received,Awards Nominated For,Boxoffice,Netflix Link,Summary,IMDb Votes,Image', inplace = True)\n",
    "df = df['Title,Genre,Tags,Languages,Director,Writer,Actors,View Rating,IMDb Score,Awards Received,Awards Nominated For,Boxoffice,Netflix Link,Summary,IMDb Votes,Image'].str.split(',', expand=True)\n",
    "\n",
    "# Assign column names to the new dataframe\n",
    "df.columns = ['Title', 'Genre', 'Tags', 'Languages', 'Director', 'Writer', 'Actors', 'View Rating', 'IMDb Score', 'Awards Received', 'Awards Nominated For', 'Boxoffice', 'Netflix Link', 'Summary', 'IMDb Votes', 'Image']\n",
    "# Create a list of the text data from the dataframe\n",
    "# text_data = df['Genre'].tolist()\n",
    "\n",
    "# Initialize the TfidfVectorizer\n",
    "# vectorizer = TfidfVectorizer()\n",
    "\n",
    "# Fit the vectorizer to the text data and transform it into a TF-IDF matrix\n",
    "# tfidf_matrix = vectorizer.fit_transform(text_data)\n",
    "\n",
    "# The resulting matrix will be in sparse format, but you can convert it to a dense matrix if desired\n",
    "# dense_tfidf_matrix = tfidf_matrix.todense()"
   ]
  },
  {
   "cell_type": "code",
   "execution_count": 45,
   "id": "73f7f3b2",
   "metadata": {},
   "outputs": [
    {
     "name": "stdout",
     "output_type": "stream",
     "text": [
      "Index(['Title', 'Genre', 'Tags', 'Languages', 'Director', 'Writer', 'Actors',\n",
      "       'View Rating', 'IMDb Score', 'Awards Received', 'Awards Nominated For',\n",
      "       'Boxoffice', 'Netflix Link', 'Summary', 'IMDb Votes', 'Image'],\n",
      "      dtype='object')\n"
     ]
    }
   ],
   "source": [
    "print(df.columns)\n",
    "\n",
    "# Assign column names to the new dataframe\n",
    "# df.columns = ['Genre', 'Tags', 'Languages', 'Director', 'Writer', 'Actors', 'View Rating', 'IMDb Score', 'Awards Received', 'Awards Nominated For', 'Boxoffice', 'Netflix Link', 'Summary', 'IMDb Votes', 'Image']\n",
    "# Create a list of the text data from the dataframe\n",
    "# text_data = df['Genre'].tolist()\n",
    "\n",
    "# Initialize the TfidfVectorizer\n",
    "# vectorizer = TfidfVectorizer()\n",
    "\n",
    "# Fit the vectorizer to the text data and transform it into a TF-IDF matrix\n",
    "# tfidf_matrix = vectorizer.fit_transform(text_data)\n",
    "\n",
    "# The resulting matrix will be in sparse format, but you can convert it to a dense matrix if desired\n",
    "# dense_tfidf_matrix = tfidf_matrix.todense()\n",
    "# print(tfidf_matrix)"
   ]
  },
  {
   "cell_type": "code",
   "execution_count": 46,
   "id": "62511205",
   "metadata": {},
   "outputs": [],
   "source": [
    "\n",
    "# for item in df.columns:\n",
    "#     \"text_data_\" + str(i) = df[item].tolist()\n",
    "#     i+=1\n",
    "text_data1 = df['Genre'].tolist()\n",
    "vectorizer1 = TfidfVectorizer()\n",
    "tfidf_matrix1 = vectorizer1.fit_transform(text_data1)\n",
    "dense_tfidf_matrix1 = tfidf_matrix1.todense()\n",
    "\n",
    "text_data2 = df['Tags'].tolist()\n",
    "vectorizer2 = TfidfVectorizer()\n",
    "tfidf_matrix2 = vectorizer2.fit_transform(text_data2)\n",
    "dense_tfidf_matrix2 = tfidf_matrix2.todense()\n",
    "\n",
    "text_data3 = df['Languages'].tolist()\n",
    "vectorizer3 = TfidfVectorizer()\n",
    "tfidf_matrix3 = vectorizer3.fit_transform(text_data3)\n",
    "dense_tfidf_matrix3 = tfidf_matrix3.todense()\n",
    "\n",
    "text_data4 = df['Director'].tolist()\n",
    "vectorizer4 = TfidfVectorizer()\n",
    "tfidf_matrix4 = vectorizer4.fit_transform(text_data4)\n",
    "dense_tfidf_matrix4 = tfidf_matrix4.todense()\n",
    "\n",
    "text_data5 = df['Writer'].tolist()\n",
    "vectorizer5 = TfidfVectorizer()\n",
    "tfidf_matrix5 = vectorizer5.fit_transform(text_data5)\n",
    "dense_tfidf_matrix5 = tfidf_matrix5.todense()\n",
    "\n",
    "text_data6 = df['Actors'].tolist()\n",
    "vectorizer6 = TfidfVectorizer()\n",
    "tfidf_matrix6 = vectorizer6.fit_transform(text_data6)\n",
    "dense_tfidf_matrix6 = tfidf_matrix6.todense()"
   ]
  },
  {
   "cell_type": "code",
   "execution_count": 52,
   "id": "78562f79",
   "metadata": {},
   "outputs": [
    {
     "name": "stdout",
     "output_type": "stream",
     "text": [
      "  (0, 20)\t0.4193467254537451\n",
      "  (0, 14)\t0.5670072958727522\n",
      "  (0, 10)\t0.48153335221580357\n",
      "  (0, 8)\t0.2650065698687978\n",
      "  (0, 6)\t0.44782608109451977\n",
      "  (1, 5)\t1.0\n",
      "  (2, 5)\t0.6115779446538603\n",
      "  (2, 20)\t0.791184186907802\n",
      "  (3, 8)\t1.0\n",
      "  (4, 8)\t1.0\n",
      "  (5, 5)\t1.0\n",
      "  (6, 25)\t0.41178005872845214\n",
      "  (6, 17)\t0.5419123608088076\n",
      "  (6, 10)\t0.4976069707294679\n",
      "  (6, 8)\t0.27385250855214116\n",
      "  (6, 6)\t0.4627745484329912\n",
      "  (7, 8)\t1.0\n",
      "  (8, 22)\t0.9494773074538326\n",
      "  (8, 8)\t0.31383569368416353\n",
      "  (9, 25)\t0.6079841816867002\n",
      "  (9, 8)\t0.40433719357138787\n",
      "  (9, 6)\t0.6832764218920242\n",
      "  (10, 21)\t0.5574968426134321\n",
      "  (10, 2)\t0.49799571240761303\n",
      "  (10, 0)\t0.4198284044738869\n",
      "  :\t:\n",
      "  (9393, 20)\t0.4538355636928082\n",
      "  (9393, 10)\t0.5211366801619437\n",
      "  (9393, 8)\t0.28680182464419746\n",
      "  (9394, 0)\t0.4993388109411721\n",
      "  (9394, 25)\t0.5066143413255738\n",
      "  (9394, 5)\t0.4121162351888165\n",
      "  (9394, 6)\t0.5693530273432359\n",
      "  (9395, 25)\t0.6647469285296993\n",
      "  (9395, 6)\t0.747068618675909\n",
      "  (9396, 25)\t0.6079841816867002\n",
      "  (9396, 8)\t0.40433719357138787\n",
      "  (9396, 6)\t0.6832764218920242\n",
      "  (9397, 0)\t0.5480426609345354\n",
      "  (9397, 25)\t0.5560278224004791\n",
      "  (9397, 6)\t0.6248858315823582\n",
      "  (9398, 5)\t0.45266141624888834\n",
      "  (9398, 20)\t0.58559756395746\n",
      "  (9398, 10)\t0.6724382018644086\n",
      "  (9399, 7)\t1.0\n",
      "  (9400, 7)\t0.6164306083752776\n",
      "  (9400, 15)\t0.7874092360761875\n",
      "  (9401, 5)\t1.0\n",
      "  (9402, 9)\t0.6730611335071491\n",
      "  (9402, 3)\t0.6163264733176325\n",
      "  (9402, 5)\t0.40881583732766674\n"
     ]
    }
   ],
   "source": [
    "print(tfidf_matrix1)"
   ]
  },
  {
   "cell_type": "code",
   "execution_count": 51,
   "id": "7e29bd48",
   "metadata": {},
   "outputs": [
    {
     "name": "stdout",
     "output_type": "stream",
     "text": [
      "  (0, 20)\t0.4193467254537451\n",
      "  (0, 14)\t0.5670072958727522\n",
      "  (0, 10)\t0.48153335221580357\n",
      "  (0, 8)\t0.2650065698687978\n",
      "  (0, 6)\t0.44782608109451977\n",
      "  (1, 5)\t1.0\n",
      "  (2, 5)\t0.6115779446538603\n",
      "  (2, 20)\t0.791184186907802\n",
      "  (3, 8)\t1.0\n",
      "  (4, 8)\t1.0\n",
      "  (5, 5)\t1.0\n",
      "  (6, 25)\t0.41178005872845214\n",
      "  (6, 17)\t0.5419123608088076\n",
      "  (6, 10)\t0.4976069707294679\n",
      "  (6, 8)\t0.27385250855214116\n",
      "  (6, 6)\t0.4627745484329912\n",
      "  (7, 8)\t1.0\n",
      "  (8, 22)\t0.9494773074538326\n",
      "  (8, 8)\t0.31383569368416353\n",
      "  (9, 25)\t0.6079841816867002\n",
      "  (9, 8)\t0.40433719357138787\n",
      "  (9, 6)\t0.6832764218920242\n",
      "  (10, 21)\t0.5574968426134321\n",
      "  (10, 2)\t0.49799571240761303\n",
      "  (10, 0)\t0.4198284044738869\n",
      "  :\t:\n",
      "  (9397, 36998)\t0.33674807311952276\n",
      "  (9397, 27197)\t0.23070419738586193\n",
      "  (9398, 38981)\t0.43485844644292215\n",
      "  (9398, 38229)\t0.3748794387534136\n",
      "  (9398, 29786)\t0.39462596043795695\n",
      "  (9398, 31928)\t0.3649379906612861\n",
      "  (9398, 29280)\t0.3649379906612861\n",
      "  (9398, 31581)\t0.272464469130971\n",
      "  (9398, 23621)\t0.32052714387064796\n",
      "  (9398, 34392)\t0.26702037067067164\n",
      "  (9399, 26825)\t0.7071067811865475\n",
      "  (9399, 40560)\t0.7071067811865475\n",
      "  (9400, 33472)\t0.42721066331041124\n",
      "  (9400, 26640)\t0.40889174182668947\n",
      "  (9400, 38311)\t0.40889174182668947\n",
      "  (9400, 38423)\t0.31686537666988096\n",
      "  (9400, 25721)\t0.31686537666988096\n",
      "  (9400, 23706)\t0.3231798239492754\n",
      "  (9400, 39042)\t0.33929440486527734\n",
      "  (9400, 36791)\t0.25046538770994264\n",
      "  (9401, 27206)\t0.7161667398035078\n",
      "  (9401, 23852)\t0.6979292233451861\n",
      "  (9402, 30982)\t0.7131747822519505\n",
      "  (9402, 31967)\t0.5575842678699285\n",
      "  (9402, 32627)\t0.42483115961972323\n"
     ]
    }
   ],
   "source": [
    "from scipy.sparse import hstack\n",
    "combined_matrix = hstack((tfidf_matrix1, tfidf_matrix2, tfidf_matrix3, tfidf_matrix4, tfidf_matrix5, tfidf_matrix6))\n",
    "# print(combined_matrix)"
   ]
  },
  {
   "cell_type": "code",
   "execution_count": 48,
   "id": "49022028",
   "metadata": {},
   "outputs": [],
   "source": [
    "from sklearn.model_selection import train_test_split\n",
    "# X_train, X_test, y_train, y_test = train_test_split(combined_matrix, target, test_size=0.2, random_state=42)\n",
    "# X_train, X_test, y_train, y_test = train_test_split(combined_matrix, df['Target'], test_size=0.2, random_state=42)\n",
    "# svm = SVC(kernel='linear')\n",
    "# svm.fit(X_train, y_train)"
   ]
  },
  {
   "cell_type": "code",
   "execution_count": 49,
   "id": "e72e6775",
   "metadata": {},
   "outputs": [],
   "source": [
    "from sklearn.neighbors import NearestNeighbors\n",
    "model_knn = NearestNeighbors(metric = 'cosine', algorithm = 'brute')\n",
    "# model_knn.fit(movie_features_df_matrix)"
   ]
  },
  {
   "cell_type": "code",
   "execution_count": 53,
   "id": "150a7b17",
   "metadata": {},
   "outputs": [
    {
     "data": {
      "text/plain": [
       "NearestNeighbors(algorithm='brute', metric='cosine')"
      ]
     },
     "execution_count": 53,
     "metadata": {},
     "output_type": "execute_result"
    }
   ],
   "source": [
    "# model_knn = NearestNeighbors(metric = 'cosine', algorithm = 'brute')\n",
    "model_knn.fit(combined_matrix)"
   ]
  },
  {
   "cell_type": "code",
   "execution_count": 58,
   "id": "d6856bc5",
   "metadata": {},
   "outputs": [],
   "source": [
    "# print(combined_matrix)\n",
    "combined_matrix = combined_matrix.todense()"
   ]
  },
  {
   "cell_type": "code",
   "execution_count": 76,
   "id": "d6fa3c24",
   "metadata": {},
   "outputs": [
    {
     "name": "stderr",
     "output_type": "stream",
     "text": [
      "C:\\Anaconda\\Install\\lib\\site-packages\\sklearn\\utils\\validation.py:593: FutureWarning: np.matrix usage is deprecated in 1.0 and will raise a TypeError in 1.2. Please convert to a numpy array with np.asarray. For more information see: https://numpy.org/doc/stable/reference/generated/numpy.matrix.html\n",
      "  warnings.warn(\n"
     ]
    },
    {
     "name": "stdout",
     "output_type": "stream",
     "text": [
      "Recommendations for movie: project power\n"
     ]
    },
    {
     "name": "stderr",
     "output_type": "stream",
     "text": [
      "C:\\Anaconda\\Install\\lib\\site-packages\\sklearn\\utils\\validation.py:593: FutureWarning: np.matrix usage is deprecated in 1.0 and will raise a TypeError in 1.2. Please convert to a numpy array with np.asarray. For more information see: https://numpy.org/doc/stable/reference/generated/numpy.matrix.html\n",
      "  warnings.warn(\n"
     ]
    },
    {
     "name": "stdout",
     "output_type": "stream",
     "text": [
      "994                    project power\n",
      "4091           die hard 2 die harder\n",
      "7409                    under arrest\n",
      "328                     the husbands\n",
      "1885    trabant there and back again\n",
      "1810                  the pharmacist\n",
      "1120           the business of drugs\n",
      "781       bad boy billionaires india\n",
      "7065                         catfish\n",
      "3802                      conspiracy\n",
      "Name: Title, dtype: object\n"
     ]
    }
   ],
   "source": [
    "from sklearn.preprocessing import MinMaxScaler\n",
    "neigh = NearestNeighbors(n_neighbors=10)\n",
    "neigh.fit(combined_matrix)\n",
    "def get_recommendations(movie_id, X, model):\n",
    "    # Get the row corresponding to the movie of interest\n",
    "    movie = X[movie_id, :]\n",
    "    \n",
    "    # Get the indices and distances of the nearest neighbors\n",
    "    distances, indices = model.kneighbors(movie.reshape(1, -1))\n",
    "    \n",
    "    # Return the movie titles corresponding to the nearest neighbors\n",
    "    return df['Title'].iloc[indices[0]]\n",
    "\n",
    "movie_id = 994\n",
    "print(\"Recommendations for movie:\", df['Title'].iloc[movie_id])\n",
    "print(get_recommendations(movie_id, combined_matrix, neigh))"
   ]
  },
  {
   "cell_type": "code",
   "execution_count": 36,
   "id": "af5ebd7f",
   "metadata": {},
   "outputs": [
    {
     "name": "stdout",
     "output_type": "stream",
     "text": [
      "0       crime drama fantasy horror romance\n",
      "1                                   comedy\n",
      "2                           comedy romance\n",
      "3                                    drama\n",
      "4                                    drama\n",
      "                       ...                \n",
      "9398                comedy fantasy romance\n",
      "9399                           documentary\n",
      "9400                     documentary music\n",
      "9401                                comedy\n",
      "9402               animation comedy family\n",
      "Name: Genre, Length: 9403, dtype: object\n"
     ]
    }
   ],
   "source": [
    "print(df.iloc[:, 0])"
   ]
  },
  {
   "cell_type": "code",
   "execution_count": null,
   "id": "b4523149",
   "metadata": {},
   "outputs": [],
   "source": []
  }
 ],
 "metadata": {
  "kernelspec": {
   "display_name": "Python 3 (ipykernel)",
   "language": "python",
   "name": "python3"
  },
  "language_info": {
   "codemirror_mode": {
    "name": "ipython",
    "version": 3
   },
   "file_extension": ".py",
   "mimetype": "text/x-python",
   "name": "python",
   "nbconvert_exporter": "python",
   "pygments_lexer": "ipython3",
   "version": "3.9.12"
  }
 },
 "nbformat": 4,
 "nbformat_minor": 5
}
